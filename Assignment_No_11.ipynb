{
  "nbformat": 4,
  "nbformat_minor": 0,
  "metadata": {
    "colab": {
      "provenance": [],
      "authorship_tag": "ABX9TyM9hzASdL/vzdIWcjERL5iD",
      "include_colab_link": true
    },
    "kernelspec": {
      "name": "python3",
      "display_name": "Python 3"
    },
    "language_info": {
      "name": "python"
    }
  },
  "cells": [
    {
      "cell_type": "markdown",
      "metadata": {
        "id": "view-in-github",
        "colab_type": "text"
      },
      "source": [
        "<a href=\"https://colab.research.google.com/github/Ayush-21CV322/Assignments/blob/main/Assignment_No_11.ipynb\" target=\"_parent\"><img src=\"https://colab.research.google.com/assets/colab-badge.svg\" alt=\"Open In Colab\"/></a>"
      ]
    },
    {
      "cell_type": "code",
      "execution_count": null,
      "metadata": {
        "colab": {
          "base_uri": "https://localhost:8080/"
        },
        "outputId": "54c02d0d-01ed-448e-b57d-53e1c6dee89a",
        "id": "_YdRtp4bzT6d"
      },
      "outputs": [
        {
          "output_type": "stream",
          "name": "stdout",
          "text": [
            "Enter influent flow rate (Q) in MGD: 35000\n",
            "Enter influent BOD (S_in) in mg/L: 250\n",
            "Enter waste sludge flow rate (W) in MGD: 220\n",
            "Enter biomass concentration (X) in mg/L: 2500\n",
            "Enter volume of areation tank (V) in m^3: 10900\n",
            "Enter waste sludge suspended solids (Xu) in mg/L: 9700\n",
            "Enter effluent suspended soldis (Xe) in mg/L: 30\n",
            "Enter effluent BOD (Ye) in mg/L: 20\n",
            "1) Food to Microorganism Ratio (F/M Ratio): 0.32 g BOD/g MLSS/day\n",
            "2) Mean Cell Residence Time (MCRT): 8.58 days\n",
            "3) Hydraulic Detention Time (HDT): 0.31 days\n",
            "4) B.O.D. Removal Efficiency: 92.00%\n"
          ]
        }
      ],
      "source": [
        "# Input parameters\n",
        "influent_flow_rate = float(input(\"Enter influent flow rate (Q) in MGD: \"))\n",
        "influent_BOD = float(input(\"Enter influent BOD (S_in) in mg/L: \"))\n",
        "waste_sludge_flow_rate = float(input(\"Enter waste sludge flow rate (W) in MGD: \"))\n",
        "biomass_concentration = float(input(\"Enter biomass concentration (X) in mg/L: \"))\n",
        "volume_areation_tank = float(input(\"Enter volume of areation tank (V) in m^3: \"))\n",
        "waste_sludge_suspended_solids = float(input(\"Enter waste sludge suspended solids (Xu) in mg/L: \"))\n",
        "effluent_suspended_solids = float(input(\"Enter effluent suspended soldis (Xe) in mg/L: \"))\n",
        "effluent_BOD = float(input(\"Enter effluent BOD (Ye) in mg/L: \"))\n",
        "# Calculate F/M Ratio\n",
        "FM_ratio = ((influent_BOD * influent_flow_rate ) / (volume_areation_tank * biomass_concentration))\n",
        "\n",
        "# Calculate MCRT\n",
        "MCRT = ((volume_areation_tank * biomass_concentration) / (((waste_sludge_flow_rate * waste_sludge_suspended_solids) + (influent_flow_rate - waste_sludge_flow_rate) * effluent_suspended_solids)))\n",
        "\n",
        "# Calculate HDT\n",
        "HDT = (volume_areation_tank / influent_flow_rate)\n",
        "\n",
        "# Calculate BOD removal efficiency\n",
        "efficiency = ((influent_BOD - effluent_BOD) / influent_BOD) * 100\n",
        "\n",
        "# Output results\n",
        "print(f\"1) Food to Microorganism Ratio (F/M Ratio): {FM_ratio:.2f} g BOD/g MLSS/day\")\n",
        "print(f\"2) Mean Cell Residence Time (MCRT): {MCRT:.2f} days\")\n",
        "print(f\"3) Hydraulic Detention Time (HDT): {HDT:.2f} days\")\n",
        "print(f\"4) B.O.D. Removal Efficiency: {efficiency:.2f}%\")\n"
      ]
    }
  ]
}